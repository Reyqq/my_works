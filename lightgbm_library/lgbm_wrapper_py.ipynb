{
  "nbformat": 4,
  "nbformat_minor": 0,
  "metadata": {
    "colab": {
      "provenance": [],
      "authorship_tag": "ABX9TyPIAOpn34JaZ2oxMkQjuvg/",
      "include_colab_link": true
    },
    "kernelspec": {
      "name": "python3",
      "display_name": "Python 3"
    },
    "language_info": {
      "name": "python"
    }
  },
  "cells": [
    {
      "cell_type": "markdown",
      "metadata": {
        "id": "view-in-github",
        "colab_type": "text"
      },
      "source": [
        "<a href=\"https://colab.research.google.com/github/Reyqq/my_works/blob/main/lightgbm_library/lgbm_wrapper_py.ipynb\" target=\"_parent\"><img src=\"https://colab.research.google.com/assets/colab-badge.svg\" alt=\"Open In Colab\"/></a>"
      ]
    },
    {
      "cell_type": "code",
      "execution_count": 6,
      "metadata": {
        "id": "-y-BO4EsfV5R"
      },
      "outputs": [],
      "source": [
        "import lightgbm as lgb\n",
        "import numpy as np\n",
        "import pandas as pd\n",
        "from sklearn.model_selection import train_test_split\n",
        "from sklearn.metrics import mean_squared_error, accuracy_score\n",
        "\n",
        "# Определение функции для обучения модели\n",
        "class LGBMWrapper:\n",
        "    \"\"\"LightGBM выполняет обучение на кросс-валидации и сохраняет лучшую модель.\n",
        "\n",
        "    \"\"\"\n",
        "    # Определение конструктора\n",
        "    def __init__(self, params=None):\n",
        "        self.params = params if params is not None else {}\n",
        "        self.model = None\n",
        "\n",
        "    # Определение метода обучения\n",
        "    def fit(self, X, y, test_size=0.2, random_state=42):\n",
        "        X_train, X_valid, y_train, y_valid = train_test_split(X, y, test_size=test_size, random_state=random_state)\n",
        "        train_data = lgb.Dataset(X_train, label=y_train)\n",
        "        valid_data = lgb.Dataset(X_valid, label=y_valid, reference=train_data)\n",
        "\n",
        "        self.model = lgb.train(self.params, train_data, valid_sets=[valid_data], early_stopping_rounds=10)\n",
        "\n",
        "        y_pred = self.model.predict(X_valid, num_iteration=self.model.best_iteration)\n",
        "        mse = mean_squared_error(y_valid, y_pred)\n",
        "        print(f\"Validation MSE: {mse:.4f}\")\n",
        "\n",
        "    # Определение метода предсказания\n",
        "    def predict(self, X):\n",
        "        if self.model is None:\n",
        "            raise ValueError(\"Model is not trained yet!\")\n",
        "        return self.model.predict(X, num_iteration=self.model.best_iteration)\n",
        "\n",
        "    # Определение метода оценки\n",
        "    def evaluate(self, X, y):\n",
        "        y_pred = self.predict(X)\n",
        "        mse = mean_squared_error(y, y_pred)\n",
        "        return mse\n",
        "\n",
        "    # Определение метода сохранения модели\n",
        "    def save_model(self, filepath):\n",
        "        self.model.save_model(filepath)\n",
        "\n",
        "    # Определение метода загрузки модели\n",
        "    def load_model(self, filepath):\n",
        "        self.model = lgb.Booster(model_file=filepath)\n"
      ]
    }
  ]
}